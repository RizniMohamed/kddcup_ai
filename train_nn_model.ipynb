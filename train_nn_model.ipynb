{
 "cells": [
  {
   "cell_type": "code",
   "execution_count": 58,
   "metadata": {},
   "outputs": [],
   "source": [
    "import joblib\n",
    "from tensorflow.keras.models import Sequential\n",
    "from tensorflow.keras.layers import Dense, BatchNormalization, Dropout,Activation,Input,LeakyReLU\n",
    "from tensorflow.keras.optimizers import Adam\n",
    "from tensorflow.keras.regularizers import l2\n",
    "from tensorflow.keras.callbacks import EarlyStopping\n",
    "from sklearn.utils.class_weight import compute_class_weight\n",
    "import numpy as np\n",
    "import json"
   ]
  },
  {
   "cell_type": "code",
   "execution_count": 2,
   "metadata": {},
   "outputs": [],
   "source": [
    "# when import tensorflow and gets recurssion error then run this and restart the kernal\n",
    "import sys\n",
    "sys.setrecursionlimit(10000)"
   ]
  },
  {
   "cell_type": "code",
   "execution_count": 3,
   "metadata": {},
   "outputs": [
    {
     "name": "stdout",
     "output_type": "stream",
     "text": [
      "Training and validation sets have been loaded from files.\n"
     ]
    }
   ],
   "source": [
    "# Define file paths\n",
    "X_train_path = 'train_test_data/X_train.pkl'\n",
    "X_test_path = 'train_test_data/X_test.pkl'\n",
    "Y_train_path = 'train_test_data/Y_train.pkl'\n",
    "Y_test_path = 'train_test_data/Y_test.pkl'\n",
    "\n",
    "# Load the split data from files\n",
    "X_train = joblib.load(X_train_path)\n",
    "X_test = joblib.load(X_test_path)\n",
    "Y_train = joblib.load(Y_train_path)\n",
    "Y_test = joblib.load(Y_test_path)\n",
    "\n",
    "print(\"Training and validation sets have been loaded from files.\")\n"
   ]
  },
  {
   "cell_type": "code",
   "execution_count": 80,
   "metadata": {},
   "outputs": [],
   "source": [
    "input_shape = X_train.shape[1]\n",
    "output_shape = len(Y_train.unique())\n",
    "input_shape = (input_shape,) "
   ]
  },
  {
   "cell_type": "code",
   "execution_count": 81,
   "metadata": {},
   "outputs": [],
   "source": [
    "model = Sequential([\n",
    "    Input(shape=input_shape),  # Input layer\n",
    "\n",
    "    Dense(128, kernel_regularizer=l2(0.01)),  # L2 regularization\n",
    "    LeakyReLU(alpha=0.01),\n",
    "    BatchNormalization(),\n",
    "    Dropout(0.3),\n",
    "\n",
    "    Dense(128, kernel_regularizer=l2(0.01)),\n",
    "    LeakyReLU(alpha=0.01),\n",
    "    BatchNormalization(),\n",
    "    Dropout(0.3),\n",
    "\n",
    "    Dense(64, kernel_regularizer=l2(0.01)),\n",
    "    LeakyReLU(alpha=0.01),\n",
    "    BatchNormalization(),\n",
    "    Dropout(0.3),\n",
    "    \n",
    "    Dense(32, kernel_regularizer=l2(0.01)),  # New additional layer\n",
    "    LeakyReLU(alpha=0.01),\n",
    "    BatchNormalization(),\n",
    "    Dropout(0.3),\n",
    "\n",
    "    Dense(output_shape, activation='softmax')  # Output layer for 5 classes\n",
    "])\n"
   ]
  },
  {
   "cell_type": "code",
   "execution_count": 82,
   "metadata": {},
   "outputs": [],
   "source": [
    "# Compile the model with additional metrics\n",
    "model.compile(optimizer=Adam(learning_rate=0.0001),\n",
    "              loss='sparse_categorical_crossentropy',\n",
    "                metrics=['accuracy']  # Metrics to monitor\n",
    ")"
   ]
  },
  {
   "cell_type": "code",
   "execution_count": 83,
   "metadata": {},
   "outputs": [
    {
     "data": {
      "text/html": [
       "<pre style=\"white-space:pre;overflow-x:auto;line-height:normal;font-family:Menlo,'DejaVu Sans Mono',consolas,'Courier New',monospace\"><span style=\"font-weight: bold\">Model: \"sequential_4\"</span>\n",
       "</pre>\n"
      ],
      "text/plain": [
       "\u001b[1mModel: \"sequential_4\"\u001b[0m\n"
      ]
     },
     "metadata": {},
     "output_type": "display_data"
    },
    {
     "data": {
      "text/html": [
       "<pre style=\"white-space:pre;overflow-x:auto;line-height:normal;font-family:Menlo,'DejaVu Sans Mono',consolas,'Courier New',monospace\">┏━━━━━━━━━━━━━━━━━━━━━━━━━━━━━━━━━┳━━━━━━━━━━━━━━━━━━━━━━━━━━━┳━━━━━━━━━━━━┓\n",
       "┃<span style=\"font-weight: bold\"> Layer (type)                    </span>┃<span style=\"font-weight: bold\"> Output Shape              </span>┃<span style=\"font-weight: bold\">    Param # </span>┃\n",
       "┡━━━━━━━━━━━━━━━━━━━━━━━━━━━━━━━━━╇━━━━━━━━━━━━━━━━━━━━━━━━━━━╇━━━━━━━━━━━━┩\n",
       "│ dense_17 (<span style=\"color: #0087ff; text-decoration-color: #0087ff\">Dense</span>)                │ (<span style=\"color: #00d7ff; text-decoration-color: #00d7ff\">None</span>, <span style=\"color: #00af00; text-decoration-color: #00af00\">128</span>)               │      <span style=\"color: #00af00; text-decoration-color: #00af00\">4,352</span> │\n",
       "├─────────────────────────────────┼───────────────────────────┼────────────┤\n",
       "│ leaky_re_lu_10 (<span style=\"color: #0087ff; text-decoration-color: #0087ff\">LeakyReLU</span>)      │ (<span style=\"color: #00d7ff; text-decoration-color: #00d7ff\">None</span>, <span style=\"color: #00af00; text-decoration-color: #00af00\">128</span>)               │          <span style=\"color: #00af00; text-decoration-color: #00af00\">0</span> │\n",
       "├─────────────────────────────────┼───────────────────────────┼────────────┤\n",
       "│ batch_normalization_13          │ (<span style=\"color: #00d7ff; text-decoration-color: #00d7ff\">None</span>, <span style=\"color: #00af00; text-decoration-color: #00af00\">128</span>)               │        <span style=\"color: #00af00; text-decoration-color: #00af00\">512</span> │\n",
       "│ (<span style=\"color: #0087ff; text-decoration-color: #0087ff\">BatchNormalization</span>)            │                           │            │\n",
       "├─────────────────────────────────┼───────────────────────────┼────────────┤\n",
       "│ dropout_13 (<span style=\"color: #0087ff; text-decoration-color: #0087ff\">Dropout</span>)            │ (<span style=\"color: #00d7ff; text-decoration-color: #00d7ff\">None</span>, <span style=\"color: #00af00; text-decoration-color: #00af00\">128</span>)               │          <span style=\"color: #00af00; text-decoration-color: #00af00\">0</span> │\n",
       "├─────────────────────────────────┼───────────────────────────┼────────────┤\n",
       "│ dense_18 (<span style=\"color: #0087ff; text-decoration-color: #0087ff\">Dense</span>)                │ (<span style=\"color: #00d7ff; text-decoration-color: #00d7ff\">None</span>, <span style=\"color: #00af00; text-decoration-color: #00af00\">128</span>)               │     <span style=\"color: #00af00; text-decoration-color: #00af00\">16,512</span> │\n",
       "├─────────────────────────────────┼───────────────────────────┼────────────┤\n",
       "│ leaky_re_lu_11 (<span style=\"color: #0087ff; text-decoration-color: #0087ff\">LeakyReLU</span>)      │ (<span style=\"color: #00d7ff; text-decoration-color: #00d7ff\">None</span>, <span style=\"color: #00af00; text-decoration-color: #00af00\">128</span>)               │          <span style=\"color: #00af00; text-decoration-color: #00af00\">0</span> │\n",
       "├─────────────────────────────────┼───────────────────────────┼────────────┤\n",
       "│ batch_normalization_14          │ (<span style=\"color: #00d7ff; text-decoration-color: #00d7ff\">None</span>, <span style=\"color: #00af00; text-decoration-color: #00af00\">128</span>)               │        <span style=\"color: #00af00; text-decoration-color: #00af00\">512</span> │\n",
       "│ (<span style=\"color: #0087ff; text-decoration-color: #0087ff\">BatchNormalization</span>)            │                           │            │\n",
       "├─────────────────────────────────┼───────────────────────────┼────────────┤\n",
       "│ dropout_14 (<span style=\"color: #0087ff; text-decoration-color: #0087ff\">Dropout</span>)            │ (<span style=\"color: #00d7ff; text-decoration-color: #00d7ff\">None</span>, <span style=\"color: #00af00; text-decoration-color: #00af00\">128</span>)               │          <span style=\"color: #00af00; text-decoration-color: #00af00\">0</span> │\n",
       "├─────────────────────────────────┼───────────────────────────┼────────────┤\n",
       "│ dense_19 (<span style=\"color: #0087ff; text-decoration-color: #0087ff\">Dense</span>)                │ (<span style=\"color: #00d7ff; text-decoration-color: #00d7ff\">None</span>, <span style=\"color: #00af00; text-decoration-color: #00af00\">64</span>)                │      <span style=\"color: #00af00; text-decoration-color: #00af00\">8,256</span> │\n",
       "├─────────────────────────────────┼───────────────────────────┼────────────┤\n",
       "│ leaky_re_lu_12 (<span style=\"color: #0087ff; text-decoration-color: #0087ff\">LeakyReLU</span>)      │ (<span style=\"color: #00d7ff; text-decoration-color: #00d7ff\">None</span>, <span style=\"color: #00af00; text-decoration-color: #00af00\">64</span>)                │          <span style=\"color: #00af00; text-decoration-color: #00af00\">0</span> │\n",
       "├─────────────────────────────────┼───────────────────────────┼────────────┤\n",
       "│ batch_normalization_15          │ (<span style=\"color: #00d7ff; text-decoration-color: #00d7ff\">None</span>, <span style=\"color: #00af00; text-decoration-color: #00af00\">64</span>)                │        <span style=\"color: #00af00; text-decoration-color: #00af00\">256</span> │\n",
       "│ (<span style=\"color: #0087ff; text-decoration-color: #0087ff\">BatchNormalization</span>)            │                           │            │\n",
       "├─────────────────────────────────┼───────────────────────────┼────────────┤\n",
       "│ dropout_15 (<span style=\"color: #0087ff; text-decoration-color: #0087ff\">Dropout</span>)            │ (<span style=\"color: #00d7ff; text-decoration-color: #00d7ff\">None</span>, <span style=\"color: #00af00; text-decoration-color: #00af00\">64</span>)                │          <span style=\"color: #00af00; text-decoration-color: #00af00\">0</span> │\n",
       "├─────────────────────────────────┼───────────────────────────┼────────────┤\n",
       "│ dense_20 (<span style=\"color: #0087ff; text-decoration-color: #0087ff\">Dense</span>)                │ (<span style=\"color: #00d7ff; text-decoration-color: #00d7ff\">None</span>, <span style=\"color: #00af00; text-decoration-color: #00af00\">32</span>)                │      <span style=\"color: #00af00; text-decoration-color: #00af00\">2,080</span> │\n",
       "├─────────────────────────────────┼───────────────────────────┼────────────┤\n",
       "│ leaky_re_lu_13 (<span style=\"color: #0087ff; text-decoration-color: #0087ff\">LeakyReLU</span>)      │ (<span style=\"color: #00d7ff; text-decoration-color: #00d7ff\">None</span>, <span style=\"color: #00af00; text-decoration-color: #00af00\">32</span>)                │          <span style=\"color: #00af00; text-decoration-color: #00af00\">0</span> │\n",
       "├─────────────────────────────────┼───────────────────────────┼────────────┤\n",
       "│ batch_normalization_16          │ (<span style=\"color: #00d7ff; text-decoration-color: #00d7ff\">None</span>, <span style=\"color: #00af00; text-decoration-color: #00af00\">32</span>)                │        <span style=\"color: #00af00; text-decoration-color: #00af00\">128</span> │\n",
       "│ (<span style=\"color: #0087ff; text-decoration-color: #0087ff\">BatchNormalization</span>)            │                           │            │\n",
       "├─────────────────────────────────┼───────────────────────────┼────────────┤\n",
       "│ dropout_16 (<span style=\"color: #0087ff; text-decoration-color: #0087ff\">Dropout</span>)            │ (<span style=\"color: #00d7ff; text-decoration-color: #00d7ff\">None</span>, <span style=\"color: #00af00; text-decoration-color: #00af00\">32</span>)                │          <span style=\"color: #00af00; text-decoration-color: #00af00\">0</span> │\n",
       "├─────────────────────────────────┼───────────────────────────┼────────────┤\n",
       "│ dense_21 (<span style=\"color: #0087ff; text-decoration-color: #0087ff\">Dense</span>)                │ (<span style=\"color: #00d7ff; text-decoration-color: #00d7ff\">None</span>, <span style=\"color: #00af00; text-decoration-color: #00af00\">5</span>)                 │        <span style=\"color: #00af00; text-decoration-color: #00af00\">165</span> │\n",
       "└─────────────────────────────────┴───────────────────────────┴────────────┘\n",
       "</pre>\n"
      ],
      "text/plain": [
       "┏━━━━━━━━━━━━━━━━━━━━━━━━━━━━━━━━━┳━━━━━━━━━━━━━━━━━━━━━━━━━━━┳━━━━━━━━━━━━┓\n",
       "┃\u001b[1m \u001b[0m\u001b[1mLayer (type)                   \u001b[0m\u001b[1m \u001b[0m┃\u001b[1m \u001b[0m\u001b[1mOutput Shape             \u001b[0m\u001b[1m \u001b[0m┃\u001b[1m \u001b[0m\u001b[1m   Param #\u001b[0m\u001b[1m \u001b[0m┃\n",
       "┡━━━━━━━━━━━━━━━━━━━━━━━━━━━━━━━━━╇━━━━━━━━━━━━━━━━━━━━━━━━━━━╇━━━━━━━━━━━━┩\n",
       "│ dense_17 (\u001b[38;5;33mDense\u001b[0m)                │ (\u001b[38;5;45mNone\u001b[0m, \u001b[38;5;34m128\u001b[0m)               │      \u001b[38;5;34m4,352\u001b[0m │\n",
       "├─────────────────────────────────┼───────────────────────────┼────────────┤\n",
       "│ leaky_re_lu_10 (\u001b[38;5;33mLeakyReLU\u001b[0m)      │ (\u001b[38;5;45mNone\u001b[0m, \u001b[38;5;34m128\u001b[0m)               │          \u001b[38;5;34m0\u001b[0m │\n",
       "├─────────────────────────────────┼───────────────────────────┼────────────┤\n",
       "│ batch_normalization_13          │ (\u001b[38;5;45mNone\u001b[0m, \u001b[38;5;34m128\u001b[0m)               │        \u001b[38;5;34m512\u001b[0m │\n",
       "│ (\u001b[38;5;33mBatchNormalization\u001b[0m)            │                           │            │\n",
       "├─────────────────────────────────┼───────────────────────────┼────────────┤\n",
       "│ dropout_13 (\u001b[38;5;33mDropout\u001b[0m)            │ (\u001b[38;5;45mNone\u001b[0m, \u001b[38;5;34m128\u001b[0m)               │          \u001b[38;5;34m0\u001b[0m │\n",
       "├─────────────────────────────────┼───────────────────────────┼────────────┤\n",
       "│ dense_18 (\u001b[38;5;33mDense\u001b[0m)                │ (\u001b[38;5;45mNone\u001b[0m, \u001b[38;5;34m128\u001b[0m)               │     \u001b[38;5;34m16,512\u001b[0m │\n",
       "├─────────────────────────────────┼───────────────────────────┼────────────┤\n",
       "│ leaky_re_lu_11 (\u001b[38;5;33mLeakyReLU\u001b[0m)      │ (\u001b[38;5;45mNone\u001b[0m, \u001b[38;5;34m128\u001b[0m)               │          \u001b[38;5;34m0\u001b[0m │\n",
       "├─────────────────────────────────┼───────────────────────────┼────────────┤\n",
       "│ batch_normalization_14          │ (\u001b[38;5;45mNone\u001b[0m, \u001b[38;5;34m128\u001b[0m)               │        \u001b[38;5;34m512\u001b[0m │\n",
       "│ (\u001b[38;5;33mBatchNormalization\u001b[0m)            │                           │            │\n",
       "├─────────────────────────────────┼───────────────────────────┼────────────┤\n",
       "│ dropout_14 (\u001b[38;5;33mDropout\u001b[0m)            │ (\u001b[38;5;45mNone\u001b[0m, \u001b[38;5;34m128\u001b[0m)               │          \u001b[38;5;34m0\u001b[0m │\n",
       "├─────────────────────────────────┼───────────────────────────┼────────────┤\n",
       "│ dense_19 (\u001b[38;5;33mDense\u001b[0m)                │ (\u001b[38;5;45mNone\u001b[0m, \u001b[38;5;34m64\u001b[0m)                │      \u001b[38;5;34m8,256\u001b[0m │\n",
       "├─────────────────────────────────┼───────────────────────────┼────────────┤\n",
       "│ leaky_re_lu_12 (\u001b[38;5;33mLeakyReLU\u001b[0m)      │ (\u001b[38;5;45mNone\u001b[0m, \u001b[38;5;34m64\u001b[0m)                │          \u001b[38;5;34m0\u001b[0m │\n",
       "├─────────────────────────────────┼───────────────────────────┼────────────┤\n",
       "│ batch_normalization_15          │ (\u001b[38;5;45mNone\u001b[0m, \u001b[38;5;34m64\u001b[0m)                │        \u001b[38;5;34m256\u001b[0m │\n",
       "│ (\u001b[38;5;33mBatchNormalization\u001b[0m)            │                           │            │\n",
       "├─────────────────────────────────┼───────────────────────────┼────────────┤\n",
       "│ dropout_15 (\u001b[38;5;33mDropout\u001b[0m)            │ (\u001b[38;5;45mNone\u001b[0m, \u001b[38;5;34m64\u001b[0m)                │          \u001b[38;5;34m0\u001b[0m │\n",
       "├─────────────────────────────────┼───────────────────────────┼────────────┤\n",
       "│ dense_20 (\u001b[38;5;33mDense\u001b[0m)                │ (\u001b[38;5;45mNone\u001b[0m, \u001b[38;5;34m32\u001b[0m)                │      \u001b[38;5;34m2,080\u001b[0m │\n",
       "├─────────────────────────────────┼───────────────────────────┼────────────┤\n",
       "│ leaky_re_lu_13 (\u001b[38;5;33mLeakyReLU\u001b[0m)      │ (\u001b[38;5;45mNone\u001b[0m, \u001b[38;5;34m32\u001b[0m)                │          \u001b[38;5;34m0\u001b[0m │\n",
       "├─────────────────────────────────┼───────────────────────────┼────────────┤\n",
       "│ batch_normalization_16          │ (\u001b[38;5;45mNone\u001b[0m, \u001b[38;5;34m32\u001b[0m)                │        \u001b[38;5;34m128\u001b[0m │\n",
       "│ (\u001b[38;5;33mBatchNormalization\u001b[0m)            │                           │            │\n",
       "├─────────────────────────────────┼───────────────────────────┼────────────┤\n",
       "│ dropout_16 (\u001b[38;5;33mDropout\u001b[0m)            │ (\u001b[38;5;45mNone\u001b[0m, \u001b[38;5;34m32\u001b[0m)                │          \u001b[38;5;34m0\u001b[0m │\n",
       "├─────────────────────────────────┼───────────────────────────┼────────────┤\n",
       "│ dense_21 (\u001b[38;5;33mDense\u001b[0m)                │ (\u001b[38;5;45mNone\u001b[0m, \u001b[38;5;34m5\u001b[0m)                 │        \u001b[38;5;34m165\u001b[0m │\n",
       "└─────────────────────────────────┴───────────────────────────┴────────────┘\n"
      ]
     },
     "metadata": {},
     "output_type": "display_data"
    },
    {
     "data": {
      "text/html": [
       "<pre style=\"white-space:pre;overflow-x:auto;line-height:normal;font-family:Menlo,'DejaVu Sans Mono',consolas,'Courier New',monospace\"><span style=\"font-weight: bold\"> Total params: </span><span style=\"color: #00af00; text-decoration-color: #00af00\">32,773</span> (128.02 KB)\n",
       "</pre>\n"
      ],
      "text/plain": [
       "\u001b[1m Total params: \u001b[0m\u001b[38;5;34m32,773\u001b[0m (128.02 KB)\n"
      ]
     },
     "metadata": {},
     "output_type": "display_data"
    },
    {
     "data": {
      "text/html": [
       "<pre style=\"white-space:pre;overflow-x:auto;line-height:normal;font-family:Menlo,'DejaVu Sans Mono',consolas,'Courier New',monospace\"><span style=\"font-weight: bold\"> Trainable params: </span><span style=\"color: #00af00; text-decoration-color: #00af00\">32,069</span> (125.27 KB)\n",
       "</pre>\n"
      ],
      "text/plain": [
       "\u001b[1m Trainable params: \u001b[0m\u001b[38;5;34m32,069\u001b[0m (125.27 KB)\n"
      ]
     },
     "metadata": {},
     "output_type": "display_data"
    },
    {
     "data": {
      "text/html": [
       "<pre style=\"white-space:pre;overflow-x:auto;line-height:normal;font-family:Menlo,'DejaVu Sans Mono',consolas,'Courier New',monospace\"><span style=\"font-weight: bold\"> Non-trainable params: </span><span style=\"color: #00af00; text-decoration-color: #00af00\">704</span> (2.75 KB)\n",
       "</pre>\n"
      ],
      "text/plain": [
       "\u001b[1m Non-trainable params: \u001b[0m\u001b[38;5;34m704\u001b[0m (2.75 KB)\n"
      ]
     },
     "metadata": {},
     "output_type": "display_data"
    }
   ],
   "source": [
    "model.summary()"
   ]
  },
  {
   "cell_type": "code",
   "execution_count": 84,
   "metadata": {},
   "outputs": [
    {
     "name": "stdout",
     "output_type": "stream",
     "text": [
      "2942\n"
     ]
    }
   ],
   "source": [
    "def find_suitable_batch_size(total_samples, max_batch_size=4096):\n",
    "    # Create a list of candidate batch sizes up to a maximum value\n",
    "    candidates = [x for x in range(max_batch_size, 0, -1) if total_samples % x == 0]\n",
    "    \n",
    "    # Return the largest batch size that divides the total_samples evenly\n",
    "    return candidates[0] if candidates else 1\n",
    "\n",
    "# Example usage\n",
    "total_samples = X_train.shape[0]\n",
    "batch_size = find_suitable_batch_size(total_samples)\n",
    "print(batch_size)\n"
   ]
  },
  {
   "cell_type": "code",
   "execution_count": 85,
   "metadata": {},
   "outputs": [
    {
     "name": "stdout",
     "output_type": "stream",
     "text": [
      "Class Weights: {0: 1.007270091454481, 1: 19593.72, 2: 0.25226379543088817, 3: 868.9011086474501, 4: 23.859863614223087}\n"
     ]
    }
   ],
   "source": [
    "\n",
    "\n",
    "# Assuming Y_train is your training labels\n",
    "classes = np.unique(Y_train)\n",
    "class_weights = compute_class_weight(class_weight='balanced', classes=classes, y=Y_train)\n",
    "class_weight_dict = dict(zip(classes, class_weights))\n",
    "\n",
    "print(\"Class Weights:\", class_weight_dict)\n"
   ]
  },
  {
   "cell_type": "code",
   "execution_count": 86,
   "metadata": {},
   "outputs": [],
   "source": [
    "\n",
    "# Implement early stopping\n",
    "early_stopping = EarlyStopping(monitor='val_loss', patience=10, restore_best_weights=True)"
   ]
  },
  {
   "cell_type": "code",
   "execution_count": 87,
   "metadata": {},
   "outputs": [
    {
     "data": {
      "text/plain": [
       "{2: 3106862, 0: 778092, 4: 32848, 3: 902, 1: 40}"
      ]
     },
     "execution_count": 87,
     "metadata": {},
     "output_type": "execute_result"
    }
   ],
   "source": [
    "dict(Y_train.value_counts())"
   ]
  },
  {
   "cell_type": "code",
   "execution_count": 92,
   "metadata": {},
   "outputs": [
    {
     "name": "stdout",
     "output_type": "stream",
     "text": [
      "Epoch 1/100\n",
      "\u001b[1m1066/1066\u001b[0m \u001b[32m━━━━━━━━━━━━━━━━━━━━\u001b[0m\u001b[37m\u001b[0m \u001b[1m13s\u001b[0m 12ms/step - accuracy: 0.9926 - loss: 5.2632 - val_accuracy: 0.9985 - val_loss: 3.2122\n",
      "Epoch 2/100\n",
      "\u001b[1m1066/1066\u001b[0m \u001b[32m━━━━━━━━━━━━━━━━━━━━\u001b[0m\u001b[37m\u001b[0m \u001b[1m13s\u001b[0m 12ms/step - accuracy: 0.9841 - loss: 4.9667 - val_accuracy: 0.9971 - val_loss: 3.1667\n",
      "Epoch 3/100\n",
      "\u001b[1m1066/1066\u001b[0m \u001b[32m━━━━━━━━━━━━━━━━━━━━\u001b[0m\u001b[37m\u001b[0m \u001b[1m12s\u001b[0m 11ms/step - accuracy: 0.9696 - loss: 4.7334 - val_accuracy: 0.9867 - val_loss: 3.0992\n",
      "Epoch 4/100\n",
      "\u001b[1m1066/1066\u001b[0m \u001b[32m━━━━━━━━━━━━━━━━━━━━\u001b[0m\u001b[37m\u001b[0m \u001b[1m13s\u001b[0m 12ms/step - accuracy: 0.9640 - loss: 4.1480 - val_accuracy: 0.9797 - val_loss: 3.0100\n",
      "Epoch 5/100\n",
      "\u001b[1m1066/1066\u001b[0m \u001b[32m━━━━━━━━━━━━━━━━━━━━\u001b[0m\u001b[37m\u001b[0m \u001b[1m12s\u001b[0m 11ms/step - accuracy: 0.9549 - loss: 4.0537 - val_accuracy: 0.9771 - val_loss: 2.8840\n",
      "Epoch 6/100\n",
      "\u001b[1m1066/1066\u001b[0m \u001b[32m━━━━━━━━━━━━━━━━━━━━\u001b[0m\u001b[37m\u001b[0m \u001b[1m12s\u001b[0m 11ms/step - accuracy: 0.9547 - loss: 3.5176 - val_accuracy: 0.9740 - val_loss: 2.7282\n",
      "Epoch 7/100\n",
      "\u001b[1m1066/1066\u001b[0m \u001b[32m━━━━━━━━━━━━━━━━━━━━\u001b[0m\u001b[37m\u001b[0m \u001b[1m12s\u001b[0m 11ms/step - accuracy: 0.9534 - loss: 3.2598 - val_accuracy: 0.9743 - val_loss: 2.5222\n",
      "Epoch 8/100\n",
      "\u001b[1m1066/1066\u001b[0m \u001b[32m━━━━━━━━━━━━━━━━━━━━\u001b[0m\u001b[37m\u001b[0m \u001b[1m12s\u001b[0m 11ms/step - accuracy: 0.9601 - loss: 3.0420 - val_accuracy: 0.9731 - val_loss: 2.3370\n",
      "Epoch 9/100\n",
      "\u001b[1m1066/1066\u001b[0m \u001b[32m━━━━━━━━━━━━━━━━━━━━\u001b[0m\u001b[37m\u001b[0m \u001b[1m12s\u001b[0m 11ms/step - accuracy: 0.9622 - loss: 2.8199 - val_accuracy: 0.9745 - val_loss: 2.1652\n",
      "Epoch 10/100\n",
      "\u001b[1m1066/1066\u001b[0m \u001b[32m━━━━━━━━━━━━━━━━━━━━\u001b[0m\u001b[37m\u001b[0m \u001b[1m12s\u001b[0m 12ms/step - accuracy: 0.9652 - loss: 2.5250 - val_accuracy: 0.9763 - val_loss: 1.9995\n",
      "Epoch 11/100\n",
      "\u001b[1m1066/1066\u001b[0m \u001b[32m━━━━━━━━━━━━━━━━━━━━\u001b[0m\u001b[37m\u001b[0m \u001b[1m12s\u001b[0m 11ms/step - accuracy: 0.9643 - loss: 2.3951 - val_accuracy: 0.9811 - val_loss: 1.8358\n",
      "Epoch 12/100\n",
      "\u001b[1m1066/1066\u001b[0m \u001b[32m━━━━━━━━━━━━━━━━━━━━\u001b[0m\u001b[37m\u001b[0m \u001b[1m12s\u001b[0m 11ms/step - accuracy: 0.9674 - loss: 2.1445 - val_accuracy: 0.9826 - val_loss: 1.6856\n",
      "Epoch 13/100\n",
      "\u001b[1m1066/1066\u001b[0m \u001b[32m━━━━━━━━━━━━━━━━━━━━\u001b[0m\u001b[37m\u001b[0m \u001b[1m12s\u001b[0m 11ms/step - accuracy: 0.9681 - loss: 2.0319 - val_accuracy: 0.9823 - val_loss: 1.5630\n",
      "Epoch 14/100\n",
      "\u001b[1m1066/1066\u001b[0m \u001b[32m━━━━━━━━━━━━━━━━━━━━\u001b[0m\u001b[37m\u001b[0m \u001b[1m12s\u001b[0m 11ms/step - accuracy: 0.9692 - loss: 1.9707 - val_accuracy: 0.9863 - val_loss: 1.4561\n",
      "Epoch 15/100\n",
      "\u001b[1m1066/1066\u001b[0m \u001b[32m━━━━━━━━━━━━━━━━━━━━\u001b[0m\u001b[37m\u001b[0m \u001b[1m12s\u001b[0m 11ms/step - accuracy: 0.9699 - loss: 1.6977 - val_accuracy: 0.9813 - val_loss: 1.3788\n",
      "Epoch 16/100\n",
      "\u001b[1m1066/1066\u001b[0m \u001b[32m━━━━━━━━━━━━━━━━━━━━\u001b[0m\u001b[37m\u001b[0m \u001b[1m12s\u001b[0m 11ms/step - accuracy: 0.9667 - loss: 1.6209 - val_accuracy: 0.9842 - val_loss: 1.2932\n",
      "Epoch 17/100\n",
      "\u001b[1m1066/1066\u001b[0m \u001b[32m━━━━━━━━━━━━━━━━━━━━\u001b[0m\u001b[37m\u001b[0m \u001b[1m12s\u001b[0m 11ms/step - accuracy: 0.9727 - loss: 1.5484 - val_accuracy: 0.9890 - val_loss: 1.2130\n",
      "Epoch 18/100\n",
      "\u001b[1m1066/1066\u001b[0m \u001b[32m━━━━━━━━━━━━━━━━━━━━\u001b[0m\u001b[37m\u001b[0m \u001b[1m12s\u001b[0m 11ms/step - accuracy: 0.9747 - loss: 1.5501 - val_accuracy: 0.9877 - val_loss: 1.1620\n",
      "Epoch 19/100\n",
      "\u001b[1m1066/1066\u001b[0m \u001b[32m━━━━━━━━━━━━━━━━━━━━\u001b[0m\u001b[37m\u001b[0m \u001b[1m12s\u001b[0m 11ms/step - accuracy: 0.9732 - loss: 1.4395 - val_accuracy: 0.9850 - val_loss: 1.1207\n",
      "Epoch 20/100\n",
      "\u001b[1m1066/1066\u001b[0m \u001b[32m━━━━━━━━━━━━━━━━━━━━\u001b[0m\u001b[37m\u001b[0m \u001b[1m12s\u001b[0m 11ms/step - accuracy: 0.9767 - loss: 1.3449 - val_accuracy: 0.9856 - val_loss: 1.0769\n",
      "Epoch 21/100\n",
      "\u001b[1m1066/1066\u001b[0m \u001b[32m━━━━━━━━━━━━━━━━━━━━\u001b[0m\u001b[37m\u001b[0m \u001b[1m12s\u001b[0m 11ms/step - accuracy: 0.9754 - loss: 1.3081 - val_accuracy: 0.9862 - val_loss: 1.0438\n",
      "Epoch 22/100\n",
      "\u001b[1m1066/1066\u001b[0m \u001b[32m━━━━━━━━━━━━━━━━━━━━\u001b[0m\u001b[37m\u001b[0m \u001b[1m12s\u001b[0m 11ms/step - accuracy: 0.9782 - loss: 1.2775 - val_accuracy: 0.9874 - val_loss: 1.0082\n",
      "Epoch 23/100\n",
      "\u001b[1m1066/1066\u001b[0m \u001b[32m━━━━━━━━━━━━━━━━━━━━\u001b[0m\u001b[37m\u001b[0m \u001b[1m12s\u001b[0m 11ms/step - accuracy: 0.9782 - loss: 1.2484 - val_accuracy: 0.9887 - val_loss: 0.9708\n",
      "Epoch 24/100\n",
      "\u001b[1m1066/1066\u001b[0m \u001b[32m━━━━━━━━━━━━━━━━━━━━\u001b[0m\u001b[37m\u001b[0m \u001b[1m12s\u001b[0m 11ms/step - accuracy: 0.9790 - loss: 1.1887 - val_accuracy: 0.9898 - val_loss: 0.9303\n",
      "Epoch 25/100\n",
      "\u001b[1m1066/1066\u001b[0m \u001b[32m━━━━━━━━━━━━━━━━━━━━\u001b[0m\u001b[37m\u001b[0m \u001b[1m12s\u001b[0m 11ms/step - accuracy: 0.9798 - loss: 1.3525 - val_accuracy: 0.9907 - val_loss: 0.8992\n",
      "Epoch 26/100\n",
      "\u001b[1m1066/1066\u001b[0m \u001b[32m━━━━━━━━━━━━━━━━━━━━\u001b[0m\u001b[37m\u001b[0m \u001b[1m12s\u001b[0m 11ms/step - accuracy: 0.9803 - loss: 1.0779 - val_accuracy: 0.9905 - val_loss: 0.8690\n",
      "Epoch 27/100\n",
      "\u001b[1m1066/1066\u001b[0m \u001b[32m━━━━━━━━━━━━━━━━━━━━\u001b[0m\u001b[37m\u001b[0m \u001b[1m12s\u001b[0m 11ms/step - accuracy: 0.9794 - loss: 1.0732 - val_accuracy: 0.9905 - val_loss: 0.8401\n",
      "Epoch 28/100\n",
      "\u001b[1m1066/1066\u001b[0m \u001b[32m━━━━━━━━━━━━━━━━━━━━\u001b[0m\u001b[37m\u001b[0m \u001b[1m12s\u001b[0m 11ms/step - accuracy: 0.9804 - loss: 1.1178 - val_accuracy: 0.9905 - val_loss: 0.8101\n",
      "Epoch 29/100\n",
      "\u001b[1m1066/1066\u001b[0m \u001b[32m━━━━━━━━━━━━━━━━━━━━\u001b[0m\u001b[37m\u001b[0m \u001b[1m12s\u001b[0m 11ms/step - accuracy: 0.9815 - loss: 1.0831 - val_accuracy: 0.9851 - val_loss: 0.7955\n",
      "Epoch 30/100\n",
      "\u001b[1m1066/1066\u001b[0m \u001b[32m━━━━━━━━━━━━━━━━━━━━\u001b[0m\u001b[37m\u001b[0m \u001b[1m12s\u001b[0m 11ms/step - accuracy: 0.9792 - loss: 0.9664 - val_accuracy: 0.9890 - val_loss: 0.7571\n",
      "Epoch 31/100\n",
      "\u001b[1m1066/1066\u001b[0m \u001b[32m━━━━━━━━━━━━━━━━━━━━\u001b[0m\u001b[37m\u001b[0m \u001b[1m12s\u001b[0m 11ms/step - accuracy: 0.9808 - loss: 0.9541 - val_accuracy: 0.9895 - val_loss: 0.7267\n",
      "Epoch 32/100\n",
      "\u001b[1m1066/1066\u001b[0m \u001b[32m━━━━━━━━━━━━━━━━━━━━\u001b[0m\u001b[37m\u001b[0m \u001b[1m12s\u001b[0m 11ms/step - accuracy: 0.9814 - loss: 0.8612 - val_accuracy: 0.9877 - val_loss: 0.7004\n",
      "Epoch 33/100\n",
      "\u001b[1m1066/1066\u001b[0m \u001b[32m━━━━━━━━━━━━━━━━━━━━\u001b[0m\u001b[37m\u001b[0m \u001b[1m12s\u001b[0m 11ms/step - accuracy: 0.9812 - loss: 0.9069 - val_accuracy: 0.9911 - val_loss: 0.6741\n",
      "Epoch 34/100\n",
      "\u001b[1m1066/1066\u001b[0m \u001b[32m━━━━━━━━━━━━━━━━━━━━\u001b[0m\u001b[37m\u001b[0m \u001b[1m12s\u001b[0m 11ms/step - accuracy: 0.9827 - loss: 0.8472 - val_accuracy: 0.9909 - val_loss: 0.6561\n",
      "Epoch 35/100\n",
      "\u001b[1m1066/1066\u001b[0m \u001b[32m━━━━━━━━━━━━━━━━━━━━\u001b[0m\u001b[37m\u001b[0m \u001b[1m12s\u001b[0m 11ms/step - accuracy: 0.9839 - loss: 0.7713 - val_accuracy: 0.9911 - val_loss: 0.6361\n",
      "Epoch 36/100\n",
      "\u001b[1m1066/1066\u001b[0m \u001b[32m━━━━━━━━━━━━━━━━━━━━\u001b[0m\u001b[37m\u001b[0m \u001b[1m12s\u001b[0m 11ms/step - accuracy: 0.9844 - loss: 0.8151 - val_accuracy: 0.9881 - val_loss: 0.6257\n",
      "Epoch 37/100\n",
      "\u001b[1m1066/1066\u001b[0m \u001b[32m━━━━━━━━━━━━━━━━━━━━\u001b[0m\u001b[37m\u001b[0m \u001b[1m12s\u001b[0m 11ms/step - accuracy: 0.9813 - loss: 0.8701 - val_accuracy: 0.9923 - val_loss: 0.6073\n",
      "Epoch 38/100\n",
      "\u001b[1m1066/1066\u001b[0m \u001b[32m━━━━━━━━━━━━━━━━━━━━\u001b[0m\u001b[37m\u001b[0m \u001b[1m12s\u001b[0m 11ms/step - accuracy: 0.9845 - loss: 0.7969 - val_accuracy: 0.9911 - val_loss: 0.5971\n",
      "Epoch 39/100\n",
      "\u001b[1m1066/1066\u001b[0m \u001b[32m━━━━━━━━━━━━━━━━━━━━\u001b[0m\u001b[37m\u001b[0m \u001b[1m12s\u001b[0m 11ms/step - accuracy: 0.9837 - loss: 0.7684 - val_accuracy: 0.9945 - val_loss: 0.5773\n",
      "Epoch 40/100\n",
      "\u001b[1m1066/1066\u001b[0m \u001b[32m━━━━━━━━━━━━━━━━━━━━\u001b[0m\u001b[37m\u001b[0m \u001b[1m12s\u001b[0m 11ms/step - accuracy: 0.9823 - loss: 0.8316 - val_accuracy: 0.9919 - val_loss: 0.5744\n",
      "Epoch 41/100\n",
      "\u001b[1m1066/1066\u001b[0m \u001b[32m━━━━━━━━━━━━━━━━━━━━\u001b[0m\u001b[37m\u001b[0m \u001b[1m12s\u001b[0m 11ms/step - accuracy: 0.9845 - loss: 0.7030 - val_accuracy: 0.9837 - val_loss: 0.5807\n",
      "Epoch 42/100\n",
      "\u001b[1m1066/1066\u001b[0m \u001b[32m━━━━━━━━━━━━━━━━━━━━\u001b[0m\u001b[37m\u001b[0m \u001b[1m12s\u001b[0m 11ms/step - accuracy: 0.9802 - loss: 0.7365 - val_accuracy: 0.9930 - val_loss: 0.5489\n",
      "Epoch 43/100\n",
      "\u001b[1m1066/1066\u001b[0m \u001b[32m━━━━━━━━━━━━━━━━━━━━\u001b[0m\u001b[37m\u001b[0m \u001b[1m12s\u001b[0m 11ms/step - accuracy: 0.9850 - loss: 0.7178 - val_accuracy: 0.9937 - val_loss: 0.5359\n",
      "Epoch 44/100\n",
      "\u001b[1m1066/1066\u001b[0m \u001b[32m━━━━━━━━━━━━━━━━━━━━\u001b[0m\u001b[37m\u001b[0m \u001b[1m12s\u001b[0m 11ms/step - accuracy: 0.9859 - loss: 0.7422 - val_accuracy: 0.9921 - val_loss: 0.5296\n",
      "Epoch 45/100\n",
      "\u001b[1m1066/1066\u001b[0m \u001b[32m━━━━━━━━━━━━━━━━━━━━\u001b[0m\u001b[37m\u001b[0m \u001b[1m12s\u001b[0m 11ms/step - accuracy: 0.9854 - loss: 0.7170 - val_accuracy: 0.9909 - val_loss: 0.5212\n",
      "Epoch 46/100\n",
      "\u001b[1m1066/1066\u001b[0m \u001b[32m━━━━━━━━━━━━━━━━━━━━\u001b[0m\u001b[37m\u001b[0m \u001b[1m12s\u001b[0m 11ms/step - accuracy: 0.9827 - loss: 0.7985 - val_accuracy: 0.9902 - val_loss: 0.5157\n",
      "Epoch 47/100\n",
      "\u001b[1m1066/1066\u001b[0m \u001b[32m━━━━━━━━━━━━━━━━━━━━\u001b[0m\u001b[37m\u001b[0m \u001b[1m12s\u001b[0m 11ms/step - accuracy: 0.9854 - loss: 0.7022 - val_accuracy: 0.9877 - val_loss: 0.5109\n",
      "Epoch 48/100\n",
      "\u001b[1m1066/1066\u001b[0m \u001b[32m━━━━━━━━━━━━━━━━━━━━\u001b[0m\u001b[37m\u001b[0m \u001b[1m12s\u001b[0m 11ms/step - accuracy: 0.9842 - loss: 0.6725 - val_accuracy: 0.9920 - val_loss: 0.4920\n",
      "Epoch 49/100\n",
      "\u001b[1m1066/1066\u001b[0m \u001b[32m━━━━━━━━━━━━━━━━━━━━\u001b[0m\u001b[37m\u001b[0m \u001b[1m12s\u001b[0m 11ms/step - accuracy: 0.9828 - loss: 0.7057 - val_accuracy: 0.9917 - val_loss: 0.4883\n",
      "Epoch 50/100\n",
      "\u001b[1m1066/1066\u001b[0m \u001b[32m━━━━━━━━━━━━━━━━━━━━\u001b[0m\u001b[37m\u001b[0m \u001b[1m12s\u001b[0m 11ms/step - accuracy: 0.9833 - loss: 0.6322 - val_accuracy: 0.9900 - val_loss: 0.4846\n",
      "Epoch 51/100\n",
      "\u001b[1m1066/1066\u001b[0m \u001b[32m━━━━━━━━━━━━━━━━━━━━\u001b[0m\u001b[37m\u001b[0m \u001b[1m12s\u001b[0m 11ms/step - accuracy: 0.9818 - loss: 0.7165 - val_accuracy: 0.9892 - val_loss: 0.4802\n",
      "Epoch 52/100\n",
      "\u001b[1m1066/1066\u001b[0m \u001b[32m━━━━━━━━━━━━━━━━━━━━\u001b[0m\u001b[37m\u001b[0m \u001b[1m12s\u001b[0m 11ms/step - accuracy: 0.9828 - loss: 0.6290 - val_accuracy: 0.9925 - val_loss: 0.4662\n",
      "Epoch 53/100\n",
      "\u001b[1m1066/1066\u001b[0m \u001b[32m━━━━━━━━━━━━━━━━━━━━\u001b[0m\u001b[37m\u001b[0m \u001b[1m12s\u001b[0m 11ms/step - accuracy: 0.9844 - loss: 0.6196 - val_accuracy: 0.9921 - val_loss: 0.4596\n",
      "Epoch 54/100\n",
      "\u001b[1m1066/1066\u001b[0m \u001b[32m━━━━━━━━━━━━━━━━━━━━\u001b[0m\u001b[37m\u001b[0m \u001b[1m12s\u001b[0m 11ms/step - accuracy: 0.9860 - loss: 0.6901 - val_accuracy: 0.9926 - val_loss: 0.4515\n",
      "Epoch 55/100\n",
      "\u001b[1m1066/1066\u001b[0m \u001b[32m━━━━━━━━━━━━━━━━━━━━\u001b[0m\u001b[37m\u001b[0m \u001b[1m12s\u001b[0m 11ms/step - accuracy: 0.9855 - loss: 0.6227 - val_accuracy: 0.9904 - val_loss: 0.4485\n",
      "Epoch 56/100\n",
      "\u001b[1m1066/1066\u001b[0m \u001b[32m━━━━━━━━━━━━━━━━━━━━\u001b[0m\u001b[37m\u001b[0m \u001b[1m12s\u001b[0m 11ms/step - accuracy: 0.9856 - loss: 0.6144 - val_accuracy: 0.9909 - val_loss: 0.4411\n",
      "Epoch 57/100\n",
      "\u001b[1m1066/1066\u001b[0m \u001b[32m━━━━━━━━━━━━━━━━━━━━\u001b[0m\u001b[37m\u001b[0m \u001b[1m12s\u001b[0m 11ms/step - accuracy: 0.9835 - loss: 0.5916 - val_accuracy: 0.9895 - val_loss: 0.4376\n",
      "Epoch 58/100\n",
      "\u001b[1m1066/1066\u001b[0m \u001b[32m━━━━━━━━━━━━━━━━━━━━\u001b[0m\u001b[37m\u001b[0m \u001b[1m12s\u001b[0m 11ms/step - accuracy: 0.9860 - loss: 0.5633 - val_accuracy: 0.9898 - val_loss: 0.4262\n",
      "Epoch 59/100\n",
      "\u001b[1m1066/1066\u001b[0m \u001b[32m━━━━━━━━━━━━━━━━━━━━\u001b[0m\u001b[37m\u001b[0m \u001b[1m12s\u001b[0m 11ms/step - accuracy: 0.9853 - loss: 0.6005 - val_accuracy: 0.9899 - val_loss: 0.4165\n",
      "Epoch 60/100\n",
      "\u001b[1m1066/1066\u001b[0m \u001b[32m━━━━━━━━━━━━━━━━━━━━\u001b[0m\u001b[37m\u001b[0m \u001b[1m12s\u001b[0m 11ms/step - accuracy: 0.9861 - loss: 0.5297 - val_accuracy: 0.9915 - val_loss: 0.4063\n",
      "Epoch 61/100\n",
      "\u001b[1m1066/1066\u001b[0m \u001b[32m━━━━━━━━━━━━━━━━━━━━\u001b[0m\u001b[37m\u001b[0m \u001b[1m12s\u001b[0m 11ms/step - accuracy: 0.9869 - loss: 0.5260 - val_accuracy: 0.9929 - val_loss: 0.3914\n",
      "Epoch 62/100\n",
      "\u001b[1m1066/1066\u001b[0m \u001b[32m━━━━━━━━━━━━━━━━━━━━\u001b[0m\u001b[37m\u001b[0m \u001b[1m12s\u001b[0m 11ms/step - accuracy: 0.9880 - loss: 0.6212 - val_accuracy: 0.9907 - val_loss: 0.3869\n",
      "Epoch 63/100\n",
      "\u001b[1m1066/1066\u001b[0m \u001b[32m━━━━━━━━━━━━━━━━━━━━\u001b[0m\u001b[37m\u001b[0m \u001b[1m12s\u001b[0m 11ms/step - accuracy: 0.9874 - loss: 0.5244 - val_accuracy: 0.9931 - val_loss: 0.3783\n",
      "Epoch 64/100\n",
      "\u001b[1m1066/1066\u001b[0m \u001b[32m━━━━━━━━━━━━━━━━━━━━\u001b[0m\u001b[37m\u001b[0m \u001b[1m12s\u001b[0m 11ms/step - accuracy: 0.9867 - loss: 0.5154 - val_accuracy: 0.9919 - val_loss: 0.3782\n",
      "Epoch 65/100\n",
      "\u001b[1m1066/1066\u001b[0m \u001b[32m━━━━━━━━━━━━━━━━━━━━\u001b[0m\u001b[37m\u001b[0m \u001b[1m12s\u001b[0m 12ms/step - accuracy: 0.9842 - loss: 0.5182 - val_accuracy: 0.9920 - val_loss: 0.3730\n",
      "Epoch 66/100\n",
      "\u001b[1m1066/1066\u001b[0m \u001b[32m━━━━━━━━━━━━━━━━━━━━\u001b[0m\u001b[37m\u001b[0m \u001b[1m12s\u001b[0m 11ms/step - accuracy: 0.9871 - loss: 0.4786 - val_accuracy: 0.9911 - val_loss: 0.3691\n",
      "Epoch 67/100\n",
      "\u001b[1m1066/1066\u001b[0m \u001b[32m━━━━━━━━━━━━━━━━━━━━\u001b[0m\u001b[37m\u001b[0m \u001b[1m12s\u001b[0m 11ms/step - accuracy: 0.9869 - loss: 0.4446 - val_accuracy: 0.9933 - val_loss: 0.3552\n",
      "Epoch 68/100\n",
      "\u001b[1m1066/1066\u001b[0m \u001b[32m━━━━━━━━━━━━━━━━━━━━\u001b[0m\u001b[37m\u001b[0m \u001b[1m12s\u001b[0m 12ms/step - accuracy: 0.9887 - loss: 0.6493 - val_accuracy: 0.9900 - val_loss: 0.3603\n",
      "Epoch 69/100\n",
      "\u001b[1m1066/1066\u001b[0m \u001b[32m━━━━━━━━━━━━━━━━━━━━\u001b[0m\u001b[37m\u001b[0m \u001b[1m12s\u001b[0m 11ms/step - accuracy: 0.9851 - loss: 0.4813 - val_accuracy: 0.9925 - val_loss: 0.3465\n",
      "Epoch 70/100\n",
      "\u001b[1m1066/1066\u001b[0m \u001b[32m━━━━━━━━━━━━━━━━━━━━\u001b[0m\u001b[37m\u001b[0m \u001b[1m12s\u001b[0m 11ms/step - accuracy: 0.9882 - loss: 0.4707 - val_accuracy: 0.9930 - val_loss: 0.3430\n",
      "Epoch 71/100\n",
      "\u001b[1m1066/1066\u001b[0m \u001b[32m━━━━━━━━━━━━━━━━━━━━\u001b[0m\u001b[37m\u001b[0m \u001b[1m12s\u001b[0m 11ms/step - accuracy: 0.9876 - loss: 0.4736 - val_accuracy: 0.9922 - val_loss: 0.3373\n",
      "Epoch 72/100\n",
      "\u001b[1m1066/1066\u001b[0m \u001b[32m━━━━━━━━━━━━━━━━━━━━\u001b[0m\u001b[37m\u001b[0m \u001b[1m12s\u001b[0m 11ms/step - accuracy: 0.9853 - loss: 0.4968 - val_accuracy: 0.9917 - val_loss: 0.3367\n",
      "Epoch 73/100\n",
      "\u001b[1m1066/1066\u001b[0m \u001b[32m━━━━━━━━━━━━━━━━━━━━\u001b[0m\u001b[37m\u001b[0m \u001b[1m12s\u001b[0m 11ms/step - accuracy: 0.9874 - loss: 0.4574 - val_accuracy: 0.9917 - val_loss: 0.3353\n",
      "Epoch 74/100\n",
      "\u001b[1m1066/1066\u001b[0m \u001b[32m━━━━━━━━━━━━━━━━━━━━\u001b[0m\u001b[37m\u001b[0m \u001b[1m12s\u001b[0m 11ms/step - accuracy: 0.9874 - loss: 0.4402 - val_accuracy: 0.9892 - val_loss: 0.3354\n",
      "Epoch 75/100\n",
      "\u001b[1m1066/1066\u001b[0m \u001b[32m━━━━━━━━━━━━━━━━━━━━\u001b[0m\u001b[37m\u001b[0m \u001b[1m12s\u001b[0m 11ms/step - accuracy: 0.9862 - loss: 0.4795 - val_accuracy: 0.9916 - val_loss: 0.3254\n",
      "Epoch 76/100\n",
      "\u001b[1m1066/1066\u001b[0m \u001b[32m━━━━━━━━━━━━━━━━━━━━\u001b[0m\u001b[37m\u001b[0m \u001b[1m12s\u001b[0m 11ms/step - accuracy: 0.9885 - loss: 0.4096 - val_accuracy: 0.9870 - val_loss: 0.3351\n",
      "Epoch 77/100\n",
      "\u001b[1m1066/1066\u001b[0m \u001b[32m━━━━━━━━━━━━━━━━━━━━\u001b[0m\u001b[37m\u001b[0m \u001b[1m12s\u001b[0m 11ms/step - accuracy: 0.9835 - loss: 0.5123 - val_accuracy: 0.9922 - val_loss: 0.3190\n",
      "Epoch 78/100\n",
      "\u001b[1m1066/1066\u001b[0m \u001b[32m━━━━━━━━━━━━━━━━━━━━\u001b[0m\u001b[37m\u001b[0m \u001b[1m12s\u001b[0m 11ms/step - accuracy: 0.9877 - loss: 0.5108 - val_accuracy: 0.9921 - val_loss: 0.3150\n",
      "Epoch 79/100\n",
      "\u001b[1m1066/1066\u001b[0m \u001b[32m━━━━━━━━━━━━━━━━━━━━\u001b[0m\u001b[37m\u001b[0m \u001b[1m12s\u001b[0m 11ms/step - accuracy: 0.9879 - loss: 0.4675 - val_accuracy: 0.9894 - val_loss: 0.3223\n",
      "Epoch 80/100\n",
      "\u001b[1m1066/1066\u001b[0m \u001b[32m━━━━━━━━━━━━━━━━━━━━\u001b[0m\u001b[37m\u001b[0m \u001b[1m12s\u001b[0m 11ms/step - accuracy: 0.9857 - loss: 0.4145 - val_accuracy: 0.9892 - val_loss: 0.3229\n",
      "Epoch 81/100\n",
      "\u001b[1m1066/1066\u001b[0m \u001b[32m━━━━━━━━━━━━━━━━━━━━\u001b[0m\u001b[37m\u001b[0m \u001b[1m12s\u001b[0m 11ms/step - accuracy: 0.9864 - loss: 0.4796 - val_accuracy: 0.9936 - val_loss: 0.3041\n",
      "Epoch 82/100\n",
      "\u001b[1m1066/1066\u001b[0m \u001b[32m━━━━━━━━━━━━━━━━━━━━\u001b[0m\u001b[37m\u001b[0m \u001b[1m12s\u001b[0m 11ms/step - accuracy: 0.9887 - loss: 0.4650 - val_accuracy: 0.9913 - val_loss: 0.3046\n",
      "Epoch 83/100\n",
      "\u001b[1m1066/1066\u001b[0m \u001b[32m━━━━━━━━━━━━━━━━━━━━\u001b[0m\u001b[37m\u001b[0m \u001b[1m12s\u001b[0m 11ms/step - accuracy: 0.9875 - loss: 0.4219 - val_accuracy: 0.9899 - val_loss: 0.3065\n",
      "Epoch 84/100\n",
      "\u001b[1m1066/1066\u001b[0m \u001b[32m━━━━━━━━━━━━━━━━━━━━\u001b[0m\u001b[37m\u001b[0m \u001b[1m12s\u001b[0m 11ms/step - accuracy: 0.9854 - loss: 0.4475 - val_accuracy: 0.9914 - val_loss: 0.2986\n",
      "Epoch 85/100\n",
      "\u001b[1m1066/1066\u001b[0m \u001b[32m━━━━━━━━━━━━━━━━━━━━\u001b[0m\u001b[37m\u001b[0m \u001b[1m12s\u001b[0m 11ms/step - accuracy: 0.9859 - loss: 0.4559 - val_accuracy: 0.9906 - val_loss: 0.2967\n",
      "Epoch 86/100\n",
      "\u001b[1m1066/1066\u001b[0m \u001b[32m━━━━━━━━━━━━━━━━━━━━\u001b[0m\u001b[37m\u001b[0m \u001b[1m12s\u001b[0m 11ms/step - accuracy: 0.9872 - loss: 0.4092 - val_accuracy: 0.9916 - val_loss: 0.2915\n",
      "Epoch 87/100\n",
      "\u001b[1m1066/1066\u001b[0m \u001b[32m━━━━━━━━━━━━━━━━━━━━\u001b[0m\u001b[37m\u001b[0m \u001b[1m12s\u001b[0m 11ms/step - accuracy: 0.9880 - loss: 0.4295 - val_accuracy: 0.9933 - val_loss: 0.2851\n",
      "Epoch 88/100\n",
      "\u001b[1m1066/1066\u001b[0m \u001b[32m━━━━━━━━━━━━━━━━━━━━\u001b[0m\u001b[37m\u001b[0m \u001b[1m12s\u001b[0m 11ms/step - accuracy: 0.9885 - loss: 0.4692 - val_accuracy: 0.9916 - val_loss: 0.2872\n",
      "Epoch 89/100\n",
      "\u001b[1m1066/1066\u001b[0m \u001b[32m━━━━━━━━━━━━━━━━━━━━\u001b[0m\u001b[37m\u001b[0m \u001b[1m12s\u001b[0m 11ms/step - accuracy: 0.9863 - loss: 0.3936 - val_accuracy: 0.9923 - val_loss: 0.2815\n",
      "Epoch 90/100\n",
      "\u001b[1m1066/1066\u001b[0m \u001b[32m━━━━━━━━━━━━━━━━━━━━\u001b[0m\u001b[37m\u001b[0m \u001b[1m12s\u001b[0m 11ms/step - accuracy: 0.9883 - loss: 0.4076 - val_accuracy: 0.9915 - val_loss: 0.2833\n",
      "Epoch 91/100\n",
      "\u001b[1m1066/1066\u001b[0m \u001b[32m━━━━━━━━━━━━━━━━━━━━\u001b[0m\u001b[37m\u001b[0m \u001b[1m12s\u001b[0m 11ms/step - accuracy: 0.9874 - loss: 0.3910 - val_accuracy: 0.9908 - val_loss: 0.2817\n",
      "Epoch 92/100\n",
      "\u001b[1m1066/1066\u001b[0m \u001b[32m━━━━━━━━━━━━━━━━━━━━\u001b[0m\u001b[37m\u001b[0m \u001b[1m12s\u001b[0m 11ms/step - accuracy: 0.9869 - loss: 0.4021 - val_accuracy: 0.9917 - val_loss: 0.2798\n",
      "Epoch 93/100\n",
      "\u001b[1m1066/1066\u001b[0m \u001b[32m━━━━━━━━━━━━━━━━━━━━\u001b[0m\u001b[37m\u001b[0m \u001b[1m12s\u001b[0m 11ms/step - accuracy: 0.9881 - loss: 0.3935 - val_accuracy: 0.9928 - val_loss: 0.2732\n",
      "Epoch 94/100\n",
      "\u001b[1m1066/1066\u001b[0m \u001b[32m━━━━━━━━━━━━━━━━━━━━\u001b[0m\u001b[37m\u001b[0m \u001b[1m12s\u001b[0m 11ms/step - accuracy: 0.9887 - loss: 0.3695 - val_accuracy: 0.9929 - val_loss: 0.2715\n",
      "Epoch 95/100\n",
      "\u001b[1m1066/1066\u001b[0m \u001b[32m━━━━━━━━━━━━━━━━━━━━\u001b[0m\u001b[37m\u001b[0m \u001b[1m12s\u001b[0m 11ms/step - accuracy: 0.9887 - loss: 0.4162 - val_accuracy: 0.9908 - val_loss: 0.2751\n",
      "Epoch 96/100\n",
      "\u001b[1m1066/1066\u001b[0m \u001b[32m━━━━━━━━━━━━━━━━━━━━\u001b[0m\u001b[37m\u001b[0m \u001b[1m12s\u001b[0m 11ms/step - accuracy: 0.9888 - loss: 0.3406 - val_accuracy: 0.9927 - val_loss: 0.2652\n",
      "Epoch 97/100\n",
      "\u001b[1m1066/1066\u001b[0m \u001b[32m━━━━━━━━━━━━━━━━━━━━\u001b[0m\u001b[37m\u001b[0m \u001b[1m12s\u001b[0m 11ms/step - accuracy: 0.9878 - loss: 0.4284 - val_accuracy: 0.9920 - val_loss: 0.2676\n",
      "Epoch 98/100\n",
      "\u001b[1m1066/1066\u001b[0m \u001b[32m━━━━━━━━━━━━━━━━━━━━\u001b[0m\u001b[37m\u001b[0m \u001b[1m12s\u001b[0m 11ms/step - accuracy: 0.9870 - loss: 0.3843 - val_accuracy: 0.9929 - val_loss: 0.2614\n",
      "Epoch 99/100\n",
      "\u001b[1m1066/1066\u001b[0m \u001b[32m━━━━━━━━━━━━━━━━━━━━\u001b[0m\u001b[37m\u001b[0m \u001b[1m12s\u001b[0m 11ms/step - accuracy: 0.9875 - loss: 0.4837 - val_accuracy: 0.9930 - val_loss: 0.2595\n",
      "Epoch 100/100\n",
      "\u001b[1m1066/1066\u001b[0m \u001b[32m━━━━━━━━━━━━━━━━━━━━\u001b[0m\u001b[37m\u001b[0m \u001b[1m12s\u001b[0m 11ms/step - accuracy: 0.9886 - loss: 0.3923 - val_accuracy: 0.9905 - val_loss: 0.2655\n"
     ]
    }
   ],
   "source": [
    "# Model training\n",
    "history = model.fit(X_train, Y_train, \n",
    "                    epochs=100,\n",
    "                    batch_size=batch_size, \n",
    "                    validation_split=0.2,\n",
    "                    class_weight=class_weight_dict,  \n",
    "                    verbose=1\n",
    "                    )"
   ]
  },
  {
   "cell_type": "code",
   "execution_count": 93,
   "metadata": {},
   "outputs": [
    {
     "data": {
      "image/png": "[encoded data removed]",
      "text/plain": [
       "<Figure size 1200x600 with 2 Axes>"
      ]
     },
     "metadata": {},
     "output_type": "display_data"
    }
   ],
   "source": [
    "import matplotlib.pyplot as plt\n",
    "\n",
    "# Plot training & validation accuracy values\n",
    "plt.figure(figsize=(12, 6))\n",
    "\n",
    "plt.subplot(1, 2, 1)\n",
    "plt.plot(history.history['accuracy'])\n",
    "plt.plot(history.history['val_accuracy'])\n",
    "plt.title('Model accuracy')\n",
    "plt.xlabel('Epoch')\n",
    "plt.ylabel('accuracy')\n",
    "plt.legend(['Train', 'Validation'], loc='upper left')\n",
    "\n",
    "# Plot training & validation loss values\n",
    "plt.subplot(1, 2, 2)\n",
    "plt.plot(history.history['loss'])\n",
    "plt.plot(history.history['val_loss'])\n",
    "plt.title('Model Loss')\n",
    "plt.xlabel('Epoch')\n",
    "plt.ylabel('Loss')\n",
    "plt.legend(['Train', 'Validation'], loc='upper left')\n",
    "\n",
    "plt.show()\n"
   ]
  },
  {
   "cell_type": "code",
   "execution_count": 71,
   "metadata": {},
   "outputs": [],
   "source": [
    "# Load JSON file\n",
    "with open('encoding_maps.json', 'r') as file:\n",
    "    encoding_maps = json.load(file)"
   ]
  },
  {
   "cell_type": "code",
   "execution_count": 94,
   "metadata": {},
   "outputs": [
    {
     "name": "stdout",
     "output_type": "stream",
     "text": [
      "\u001b[1m30616/30616\u001b[0m \u001b[32m━━━━━━━━━━━━━━━━━━━━\u001b[0m\u001b[37m\u001b[0m \u001b[1m23s\u001b[0m 754us/step - accuracy: 0.9905 - loss: 0.2674\n",
      "Test Loss: 0.26726552844047546\n",
      "Test Accuracy: 0.9904530644416809\n",
      "\u001b[1m30616/30616\u001b[0m \u001b[32m━━━━━━━━━━━━━━━━━━━━\u001b[0m\u001b[37m\u001b[0m \u001b[1m21s\u001b[0m 682us/step\n",
      "              precision    recall  f1-score   support\n",
      "\n",
      "      normal       1.00      0.96      0.98    194689\n",
      "         u2r       0.00      0.83      0.00        12\n",
      "         dos       1.00      1.00      1.00    776508\n",
      "         r2l       0.08      0.98      0.15       224\n",
      "       probe       0.79      0.99      0.88      8254\n",
      "\n",
      "    accuracy                           0.99    979687\n",
      "   macro avg       0.57      0.95      0.60    979687\n",
      "weighted avg       1.00      0.99      0.99    979687\n",
      "\n"
     ]
    }
   ],
   "source": [
    "# Evaluate the model on test data\n",
    "test_loss, test_accuracy = model.evaluate(X_test, Y_test)\n",
    "\n",
    "print(f'Test Loss: {test_loss}')\n",
    "print(f'Test Accuracy: {test_accuracy}')\n",
    "\n",
    "# Predict probabilities on the test set\n",
    "predictions = model.predict(X_test)\n",
    "\n",
    "# Convert probabilities to class labels\n",
    "predicted_classes = np.argmax(predictions, axis=1)\n",
    "\n",
    "# Print detailed classification report\n",
    "from sklearn.metrics import classification_report\n",
    "print(classification_report(Y_test, predicted_classes, target_names=encoding_maps['target_map'].keys()))\n"
   ]
  },
  {
   "cell_type": "code",
   "execution_count": 95,
   "metadata": {},
   "outputs": [
    {
     "name": "stderr",
     "output_type": "stream",
     "text": [
      "c:\\Users\\rizni\\OneDrive\\Desktop\\KDDCUP\\venv\\Lib\\site-packages\\keras\\src\\models\\model.py:342: UserWarning: You are saving your model as an HDF5 file via `model.save()`. This file format is considered legacy. We recommend using instead the native Keras format, e.g. `model.save('my_model.keras')`.\n",
      "  warnings.warn(\n"
     ]
    }
   ],
   "source": [
    "model.save('models/NN_model.h5')  # Saves the model to HDF5 file"
   ]
  }
 ],
 "metadata": {
  "kernelspec": {
   "display_name": "venv",
   "language": "python",
   "name": "python3"
  },
  "language_info": {
   "codemirror_mode": {
    "name": "ipython",
    "version": 3
   },
   "file_extension": ".py",
   "mimetype": "text/x-python",
   "name": "python",
   "nbconvert_exporter": "python",
   "pygments_lexer": "ipython3",
   "version": "3.11.7"
  }
 },
 "nbformat": 4,
 "nbformat_minor": 2
}
